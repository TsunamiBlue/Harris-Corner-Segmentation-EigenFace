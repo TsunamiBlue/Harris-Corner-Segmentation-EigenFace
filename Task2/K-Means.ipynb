{
 "cells": [
  {
   "cell_type": "markdown",
   "metadata": {},
   "source": [
    "**Student ID: u6579712** \n",
    "\n",
    "**Student Name: Jieli Zheng**"
   ]
  },
  {
   "cell_type": "markdown",
   "metadata": {},
   "source": [
    "**Task-2:  K-Means Clustering and Color Image Segmentation**\n",
    "--"
   ]
  },
  {
   "cell_type": "code",
   "execution_count": 1,
   "metadata": {},
   "outputs": [],
   "source": [
    "import numpy as np\n",
    "import cv2\n",
    "import os\n",
    "from matplotlib import pyplot as plt"
   ]
  },
  {
   "cell_type": "code",
   "execution_count": 2,
   "metadata": {},
   "outputs": [],
   "source": [
    "# K mean clustering & its helper methods\n",
    "\n",
    "# random pick initialization\n",
    "def random_pick(image,centroid_num):\n",
    "    # TODO\n",
    "    X = image.reshape(-1, 1)\n",
    "    return X[np.random.choice(len(X),centroid_num,replace=False)]\n",
    "\n",
    "\n",
    "# k means ++ initialization\n",
    "def kmeanspp(image,centroid_num):\n",
    "    X = image.reshape(-1,1)\n",
    "    m = centroid_num\n",
    "\n",
    "    ans = []\n",
    "    fst_index = np.random.randint(0, len(X))\n",
    "    ans.append(X[fst_index])\n",
    "    d = [0 for _ in range(len(X))]\n",
    "    for _ in range(1, m):\n",
    "        sum1 = float(0)\n",
    "        for i, point in enumerate(X):\n",
    "            _, d[i] = nearest_centroid(ans, point)\n",
    "            sum1 += d[i]\n",
    "        sum1 *= np.random.random()\n",
    "        for i, a in enumerate(d):\n",
    "            sum1 -= a\n",
    "            if (sum1 > 0):\n",
    "                continue\n",
    "            if (check_duplicate(X[i], ans)):\n",
    "                continue\n",
    "            ans.append(X[i])\n",
    "            break\n",
    "\n",
    "    return np.array(ans)\n",
    "\n",
    "# whether element is in an array\n",
    "def check_duplicate(sample, arrs):\n",
    "    for arr in arrs:\n",
    "        if np.array_equal(sample, arr):\n",
    "            return True\n",
    "    return False\n",
    "\n",
    "\n",
    "# find the index and distance of nearest centroid\n",
    "def nearest_centroid(centroids,point):\n",
    "    distance_min = np.inf\n",
    "    ans_idx = -2\n",
    "    for i,centroid in enumerate(centroids):\n",
    "        distance = float(np.linalg.norm(centroid-point))\n",
    "        if distance < distance_min:\n",
    "            ans_idx = i\n",
    "            distance_min=distance\n",
    "    # which centroid it belongs to\n",
    "    return ans_idx, distance_min"
   ]
  },
  {
   "cell_type": "code",
   "execution_count": 3,
   "metadata": {},
   "outputs": [],
   "source": [
    "def my_kmeans_coords(image, centroid_num, using_kmeanspp=False,iteration_num=50):\n",
    "    \"\"\"\n",
    "    my k-mean clustering algorithm as well as some adv args\n",
    "    :param image: np array of 3 channels\n",
    "    :param centroid_num: number of centroids\n",
    "    :param using_kmeanspp: whether to use k-means++ when initialization\n",
    "    :param iteration_num: number of iterations, default 10\n",
    "    :return: final clusters\n",
    "    \"\"\"\n",
    "    clusters = dict()\n",
    "    image_shape = image.shape\n",
    "    assignments = np.zeros(image_shape[:2])\n",
    "    assignments -= 2\n",
    "    # initialize\n",
    "    images_coords = []\n",
    "    for i in range(image_shape[0]):\n",
    "        tmp = []\n",
    "        for j in range(image_shape[1]):\n",
    "            tmp.append([i, j])\n",
    "        images_coords.append(tmp)\n",
    "\n",
    "    images_coords = np.array(images_coords)\n",
    "    images_coords = images_coords.transpose(2, 0, 1)\n",
    "    data_points = np.vstack([image.transpose(2, 0, 1), images_coords])\n",
    "    data_points = data_points.transpose(1, 2, 0)\n",
    "\n",
    "    if using_kmeanspp:\n",
    "        centroids = kmeanspp(data_points,centroid_num)\n",
    "    else:\n",
    "        centroids = random_pick(data_points,centroid_num)\n",
    "\n",
    "\n",
    "    # main iterations:\n",
    "    for i in range(iteration_num):\n",
    "\n",
    "        clusters = dict()\n",
    "        for m in range(centroid_num):\n",
    "            clusters[m] = []\n",
    "\n",
    "        # E - step\n",
    "        for j, row in enumerate(image):\n",
    "            for k, channels in enumerate(row):\n",
    "                point = np.hstack((channels,j,k))\n",
    "                current_idx,_ = nearest_centroid(centroids,point)\n",
    "                assignments[j][k] = current_idx\n",
    "                # record assignments\n",
    "                clusters[current_idx].append(point)\n",
    "\n",
    "        # M - step\n",
    "        # re-generate new centroids by the mean of points in cluster\n",
    "        new_centroids = []\n",
    "        for centroid_idx, points in clusters.items():\n",
    "            if points:\n",
    "                current_new_centroid = np.mean(points, axis=0)\n",
    "            else:\n",
    "                # remain\n",
    "                current_new_centroid = centroids[centroid_idx]\n",
    "            new_centroids.append(current_new_centroid)\n",
    "        centroids = np.array(new_centroids)\n",
    "\n",
    "    return clusters"
   ]
  },
  {
   "cell_type": "code",
   "execution_count": 4,
   "metadata": {},
   "outputs": [],
   "source": [
    "def my_kmeans_no_coords(image, centroid_num, using_kmeanspp=False,iteration_num=50):\n",
    "    \"\"\"\n",
    "    my k-mean clustering algorithm as well as some adv args\n",
    "    :param image: np array of 3 channels\n",
    "    :param centroid_num: number of centroids\n",
    "    :param using_kmeanspp: whether to use k-means++ when initialization\n",
    "    :param iteration_num: number of iterations, default 10\n",
    "    :return: final clusters\n",
    "    \"\"\"\n",
    "    clusters = dict()\n",
    "    image_shape = image.shape\n",
    "    assignments = np.zeros(image_shape[:2])\n",
    "    assignments -= 2\n",
    "    # initialize\n",
    "    if using_kmeanspp:\n",
    "        centroids = kmeanspp(image,centroid_num)\n",
    "    else:\n",
    "        centroids = random_pick(image,centroid_num)\n",
    "\n",
    "\n",
    "    # main iterations:\n",
    "    for i in range(iteration_num):\n",
    "\n",
    "        clusters = dict()\n",
    "        for m in range(centroid_num):\n",
    "            clusters[m] = []\n",
    "\n",
    "        # E - step\n",
    "        for j, row in enumerate(image):\n",
    "            for k, channels in enumerate(row):\n",
    "                point = channels\n",
    "                current_idx,_ = nearest_centroid(centroids,point)\n",
    "                assignments[j][k] = current_idx\n",
    "                # record assignments\n",
    "                clusters[current_idx].append(point)\n",
    "\n",
    "        # M - step\n",
    "        # re-generate new centroids by the mean of points in cluster\n",
    "        new_centroids = []\n",
    "        for centroid_idx, points in clusters.items():\n",
    "            current_new_centroid = np.mean(points, axis=0)\n",
    "            new_centroids.append(current_new_centroid)\n",
    "            # print(centroid_idx, np.array(points).shape,current_new_centroid)\n",
    "        centroids = np.array(new_centroids)\n",
    "\n",
    "    return clusters,assignments"
   ]
  },
  {
   "cell_type": "code",
   "execution_count": 5,
   "metadata": {
    "scrolled": false
   },
   "outputs": [
    {
     "name": "stdout",
     "output_type": "stream",
     "text": [
      "mandm size (394, 451, 3)\n",
      "peppers size (384, 512, 3)\n"
     ]
    }
   ],
   "source": [
    " # load image\n",
    "mandm_pth = os.path.join(\"mandm.png\")\n",
    "peppers_pth = os.path.join(\"peppers.png\")\n",
    "\n",
    "mandm_image = cv2.imread(mandm_pth)\n",
    "mandm_image = cv2.cvtColor(mandm_image, cv2.COLOR_BGR2LAB)\n",
    "print(f\"mandm size {mandm_image.shape}\")\n",
    "\n",
    "\n",
    "peppers = cv2.imread(peppers_pth)\n",
    "peppers = cv2.cvtColor(peppers, cv2.COLOR_BGR2LAB)\n",
    "print(f\"peppers size {peppers.shape}\")"
   ]
  },
  {
   "cell_type": "markdown",
   "metadata": {},
   "source": [
    "**using coordinates for clustering** "
   ]
  },
  {
   "cell_type": "markdown",
   "metadata": {},
   "source": [
    "IMAGE mandm"
   ]
  },
  {
   "cell_type": "code",
   "execution_count": 23,
   "metadata": {},
   "outputs": [],
   "source": [
    "#  W/ COORDS\n",
    "# cluster with coords and without kmeans++\n",
    "ans_clusters = my_kmeans_coords(mandm_image,14,using_kmeanspp=True)\n",
    "# visualize\n",
    "clustered_image = np.zeros(mandm_image.shape)\n",
    "clustered_image -= 1\n",
    "clustered_image = clustered_image.astype(np.uint8)\n",
    "for centroid_idx, points in ans_clusters.items():\n",
    "    if points:\n",
    "#         print(np.array(points).shape)\n",
    "        centroid_mean = np.mean(points,axis=0)\n",
    "        L,a,b,_,_ = centroid_mean\n",
    "        centroid_Lab = np.array([L, a, b]).astype(np.uint8)\n",
    "        for _,_,_,x,y in points:\n",
    "            clustered_image[x][y] = centroid_Lab\n"
   ]
  },
  {
   "cell_type": "code",
   "execution_count": 24,
   "metadata": {
    "scrolled": true
   },
   "outputs": [
    {
     "data": {
      "image/png": "[encoded data removed]",
      "text/plain": [
       "<Figure size 432x288 with 1 Axes>"
      ]
     },
     "metadata": {
      "needs_background": "light"
     },
     "output_type": "display_data"
    }
   ],
   "source": [
    "clustered_image = cv2.cvtColor(clustered_image,cv2.COLOR_LAB2RGB)\n",
    "plt.imshow(clustered_image)\n",
    "plt.show()"
   ]
  },
  {
   "cell_type": "markdown",
   "metadata": {},
   "source": [
    "IMAGE peppers"
   ]
  },
  {
   "cell_type": "code",
   "execution_count": 25,
   "metadata": {},
   "outputs": [
    {
     "name": "stdout",
     "output_type": "stream",
     "text": [
      "14\n",
      "(20756, 5)\n",
      "(18706, 5)\n",
      "(22960, 5)\n",
      "(16464, 5)\n",
      "(16434, 5)\n",
      "(15631, 5)\n",
      "(23122, 5)\n",
      "(21638, 5)\n",
      "(24843, 5)\n",
      "(16054, 5)\n"
     ]
    }
   ],
   "source": [
    "# cluster with coords and without kmeans++\n",
    "ans2_clusters = my_kmeans_coords(peppers,14,using_kmeanspp=True)\n",
    "# visualize\n",
    "clustered_image2 = np.zeros(peppers.shape)\n",
    "clustered_image2 -= 1\n",
    "clustered_image2 = clustered_image2.astype(np.uint8)\n",
    "print(len(ans2_clusters.keys()))\n",
    "for centroid_idx, points in ans2_clusters.items():\n",
    "    if points:\n",
    "        print(np.array(points).shape)\n",
    "        centroid_mean2 = np.mean(points,axis=0)\n",
    "        L,a,b,_,_ = centroid_mean2\n",
    "        centroid_Lab2 = np.array([L, a, b]).astype(np.uint8)\n",
    "        for _,_,_,x,y in points:\n",
    "            clustered_image2[x][y] = centroid_Lab2"
   ]
  },
  {
   "cell_type": "code",
   "execution_count": 26,
   "metadata": {
    "scrolled": false
   },
   "outputs": [
    {
     "data": {
      "image/png": "[encoded data removed]",
      "text/plain": [
       "<Figure size 432x288 with 1 Axes>"
      ]
     },
     "metadata": {
      "needs_background": "light"
     },
     "output_type": "display_data"
    }
   ],
   "source": [
    "clustered_image2 = cv2.cvtColor(clustered_image2,cv2.COLOR_LAB2RGB)\n",
    "plt.imshow(clustered_image2)\n",
    "plt.show()"
   ]
  },
  {
   "cell_type": "markdown",
   "metadata": {},
   "source": [
    "**not using coordinates for clustering**"
   ]
  },
  {
   "cell_type": "markdown",
   "metadata": {},
   "source": [
    "IMAGE mandm"
   ]
  },
  {
   "cell_type": "code",
   "execution_count": 10,
   "metadata": {},
   "outputs": [
    {
     "name": "stdout",
     "output_type": "stream",
     "text": [
      "<class 'numpy.uint8'>\n"
     ]
    }
   ],
   "source": [
    "#  W/O COORDS\n",
    "ans_clusters_no_coord, ans_assignments = my_kmeans_no_coords(mandm_image, 7, using_kmeanspp=True)\n",
    "# print(ans_assignments)\n",
    "# visualize\n",
    "clustered_image_no_coord = np.zeros(mandm_image.shape)\n",
    "clustered_image_no_coord -= 1\n",
    "clustered_image_no_coord = clustered_image_no_coord.astype(np.uint8)\n",
    "# calculate the mean colour of each cluster\n",
    "cluster_mean_colour = dict()\n",
    "for centroid_idx, points in ans_clusters_no_coord.items():\n",
    "    if points:\n",
    "        centroid_mean = np.mean(points,axis=0)\n",
    "        centroid_Lab = np.array(centroid_mean).astype(np.uint8)\n",
    "        cluster_mean_colour[centroid_idx] = centroid_Lab\n",
    "\n",
    "for x,row in enumerate(ans_assignments):\n",
    "    for y,cluster_idx in enumerate(row):\n",
    "        clustered_image_no_coord[x][y] = cluster_mean_colour[cluster_idx]\n",
    "\n",
    "print(type(clustered_image_no_coord[0][0][0]))\n",
    "    "
   ]
  },
  {
   "cell_type": "code",
   "execution_count": 11,
   "metadata": {},
   "outputs": [
    {
     "data": {
      "image/png": "[encoded data removed]",
      "text/plain": [
       "<Figure size 432x288 with 1 Axes>"
      ]
     },
     "metadata": {
      "needs_background": "light"
     },
     "output_type": "display_data"
    }
   ],
   "source": [
    "clustered_image_no_coord = cv2.cvtColor(clustered_image_no_coord, cv2.COLOR_LAB2RGB)\n",
    "plt.imshow(clustered_image_no_coord)\n",
    "plt.show()"
   ]
  },
  {
   "cell_type": "markdown",
   "metadata": {},
   "source": [
    "IMAGE peppers"
   ]
  },
  {
   "cell_type": "code",
   "execution_count": 12,
   "metadata": {},
   "outputs": [
    {
     "name": "stdout",
     "output_type": "stream",
     "text": [
      "<class 'numpy.uint8'>\n"
     ]
    }
   ],
   "source": [
    "ans_clusters_no_coord, ans_assignments = my_kmeans_no_coords(peppers, 7, using_kmeanspp=True)\n",
    "# print(ans_assignments)\n",
    "# visualize\n",
    "clustered_image_no_coord = np.zeros(peppers.shape)\n",
    "clustered_image_no_coord -= 1\n",
    "clustered_image_no_coord = clustered_image_no_coord.astype(np.uint8)\n",
    "# calculate the mean colour of each cluster\n",
    "cluster_mean_colour = dict()\n",
    "for centroid_idx, points in ans_clusters_no_coord.items():\n",
    "    if points:\n",
    "        centroid_mean = np.mean(points,axis=0)\n",
    "        centroid_Lab = np.array(centroid_mean).astype(np.uint8)\n",
    "        cluster_mean_colour[centroid_idx] = centroid_Lab\n",
    "\n",
    "for x,row in enumerate(ans_assignments):\n",
    "    for y,cluster_idx in enumerate(row):\n",
    "        clustered_image_no_coord[x][y] = cluster_mean_colour[cluster_idx]\n",
    "\n",
    "print(type(clustered_image_no_coord[0][0][0]))"
   ]
  },
  {
   "cell_type": "code",
   "execution_count": 13,
   "metadata": {},
   "outputs": [
    {
     "data": {
      "image/png": "[encoded data removed]",
      "text/plain": [
       "<Figure size 432x288 with 1 Axes>"
      ]
     },
     "metadata": {
      "needs_background": "light"
     },
     "output_type": "display_data"
    }
   ],
   "source": [
    "clustered_image_no_coord = cv2.cvtColor(clustered_image_no_coord, cv2.COLOR_LAB2RGB)\n",
    "plt.imshow(clustered_image_no_coord)\n",
    "plt.show()"
   ]
  },
  {
   "cell_type": "code",
   "execution_count": null,
   "metadata": {},
   "outputs": [],
   "source": []
  }
 ],
 "metadata": {
  "kernelspec": {
   "display_name": "Python [conda env:root] *",
   "language": "python",
   "name": "conda-root-py"
  },
  "language_info": {
   "codemirror_mode": {
    "name": "ipython",
    "version": 3
   },
   "file_extension": ".py",
   "mimetype": "text/x-python",
   "name": "python",
   "nbconvert_exporter": "python",
   "pygments_lexer": "ipython3",
   "version": "3.7.3"
  }
 },
 "nbformat": 4,
 "nbformat_minor": 2
}
