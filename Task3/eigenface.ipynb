{
 "cells": [
  {
   "cell_type": "markdown",
   "metadata": {},
   "source": [
    "**Student ID: u6579712** \n",
    "\n",
    "**Student Name: Jieli Zheng**"
   ]
  },
  {
   "cell_type": "markdown",
   "metadata": {},
   "source": [
    "**Task-3: Face Recognition using Eigenface**\n",
    "--"
   ]
  },
  {
   "cell_type": "code",
   "execution_count": 1,
   "metadata": {},
   "outputs": [],
   "source": [
    "import os\n",
    "import cv2\n",
    "import numpy as np\n",
    "import math\n",
    "from matplotlib import pyplot as plt\n",
    "from matplotlib.pyplot import imread"
   ]
  },
  {
   "cell_type": "code",
   "execution_count": 2,
   "metadata": {},
   "outputs": [],
   "source": [
    "# calculate the mean face and normalized faces\n",
    "def preprocess(A_pp):\n",
    "    A = None\n",
    "    Q_norms = None\n",
    "    A_means = None\n",
    "\n",
    "\n",
    "    A_pp_mean = np.mean(A_pp, axis=1, keepdims=True)\n",
    "    Q = A_pp - A_pp_mean\n",
    "    Q_norms = np.amax(np.abs(Q), axis=1, keepdims=True)\n",
    "    A = Q / np.where(Q_norms == 0, 1, Q_norms)\n",
    "    A_means = np.mean(A_pp, axis=1, keepdims=True)\n",
    "\n",
    "    return A, Q_norms, A_means\n",
    "\n",
    "\n",
    "# the main algorithm of eigenface.\n",
    "def eigen_faces(A_pp):\n",
    "    C = None\n",
    "    F = None\n",
    "    D = None\n",
    "    Q_norms = None\n",
    "    A_means = None\n",
    "\n",
    "\n",
    "    A, Q_norms, A_means = preprocess(A_pp)\n",
    "    D, C = np.linalg.eig(A.T @ A)\n",
    "    D = D.real\n",
    "    C = C.real\n",
    "\n",
    "\n",
    "    F = A @ C\n",
    "    F_norm = np.linalg.norm(F, axis=0, keepdims=True)\n",
    "    F = F / F_norm\n",
    "\n",
    "    C = A.T @ F\n",
    "    return A, C, F, D, Q_norms, A_means\n",
    "\n",
    "\n",
    "\n"
   ]
  },
  {
   "cell_type": "code",
   "execution_count": null,
   "metadata": {},
   "outputs": [],
   "source": []
  },
  {
   "cell_type": "code",
   "execution_count": 3,
   "metadata": {},
   "outputs": [],
   "source": [
    "def reconstruct_image(Img, F, Q_norms, A_means,A):\n",
    "    R = np.zeros((231, 195))\n",
    "\n",
    "\n",
    "    #     calculate C, which is AT@A's eigenvector matrix\n",
    "    C = A.T @ F\n",
    "\n",
    "    #     calculate R_vector\n",
    "    R_vector = np.zeros(Q_norms.shape)\n",
    "\n",
    "    for j in range(len(Img)):\n",
    "        R_vector = R_vector + (Img[j] * Q_norms * F[:, j].reshape(-1, 1))\n",
    "\n",
    "    R_vector += A_means\n",
    "    R = R_vector.reshape((231, 195), order=\"F\")\n",
    "\n",
    "    return R\n",
    "\n",
    "\n",
    "\n",
    "def reduce_dimensionality(image_vector, k, F, D, A_means, Q_norms):\n",
    "    compressed_image = None\n",
    "    p = None\n",
    "\n",
    "\n",
    "    #     k:k paras int\n",
    "    #     F:eigen Face， A@A.T   eigenvector 45045,135\n",
    "    #     D: A.T@A eigenvalue 135,\n",
    "    #     A_means: average face lookings 45045,1\n",
    "    #     Q_norms: image normalized       45045,1\n",
    "    #     image_vector: pic we need to compress ,45045,1\n",
    "\n",
    "    #     intialize image_vector\n",
    "\n",
    "    Q = image_vector.reshape(-1, 1) - A_means\n",
    "    image_normalized = Q / np.where(Q_norms == 0, 1, Q_norms)\n",
    "\n",
    "    #     handle compressed image\n",
    "    F_k = F[:, 0:k]\n",
    "\n",
    "    compressed_parameter = F_k.T @ image_normalized\n",
    "    compressed_parameter_s = np.zeros((135, 1))\n",
    "    for i in range(135):\n",
    "        if (i < k):\n",
    "            compressed_parameter_s[i] = compressed_parameter[i]\n",
    "\n",
    "\n",
    "    #     handle p\n",
    "    d_sum = np.sum(D)\n",
    "    fenzi = 0\n",
    "    for i in range(k):\n",
    "        fenzi += D[i]\n",
    "    p = fenzi / d_sum\n",
    "\n",
    "    print(image_normalized.shape)\n",
    "    print(compressed_parameter.shape)\n",
    "    print(F_k.shape)\n",
    "\n",
    "\n",
    "    return compressed_parameter_s, p"
   ]
  },
  {
   "cell_type": "code",
   "execution_count": null,
   "metadata": {},
   "outputs": [],
   "source": []
  },
  {
   "cell_type": "code",
   "execution_count": null,
   "metadata": {},
   "outputs": [],
   "source": []
  },
  {
   "cell_type": "code",
   "execution_count": null,
   "metadata": {},
   "outputs": [],
   "source": []
  },
  {
   "cell_type": "code",
   "execution_count": null,
   "metadata": {},
   "outputs": [],
   "source": []
  }
 ],
 "metadata": {
  "kernelspec": {
   "display_name": "Python [conda env:root] *",
   "language": "python",
   "name": "conda-root-py"
  },
  "language_info": {
   "codemirror_mode": {
    "name": "ipython",
    "version": 3
   },
   "file_extension": ".py",
   "mimetype": "text/x-python",
   "name": "python",
   "nbconvert_exporter": "python",
   "pygments_lexer": "ipython3",
   "version": "3.7.3"
  }
 },
 "nbformat": 4,
 "nbformat_minor": 2
}
