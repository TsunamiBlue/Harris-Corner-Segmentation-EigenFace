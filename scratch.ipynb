{
 "cells": [
  {
   "cell_type": "code",
   "execution_count": 1,
   "metadata": {},
   "outputs": [],
   "source": [
    "import numpy as np\n",
    "import cv2\n",
    "import matplotlib.pyplot as plt\n"
   ]
  },
  {
   "cell_type": "code",
   "execution_count": 4,
   "metadata": {},
   "outputs": [],
   "source": [
    "def conv2(img, conv_filter):\n",
    "    # flip the filter\n",
    "    f_siz_1, f_size_2 = conv_filter.shape\n",
    "    conv_filter = conv_filter[range(f_siz_1 - 1, -1, -1), :][:, range(f_siz_1 - 1, -1, -1)]\n",
    "    pad = (conv_filter.shape[0] - 1) // 2\n",
    "    result = np.zeros((img.shape))\n",
    "    img = np.pad(img, ((pad, pad), (pad, pad)), 'constant', constant_values=(0, 0))\n",
    "    filter_size = conv_filter.shape[0]\n",
    "    for r in np.arange(img.shape[0] - filter_size + 1):\n",
    "        for c in np.arange(img.shape[1] - filter_size + 1):\n",
    "            curr_region = img[r:r + filter_size, c:c + filter_size]\n",
    "            curr_result = curr_region * conv_filter\n",
    "            conv_sum = np.sum(curr_result)  # Summing the result of multiplication.\n",
    "            result[r, c] = conv_sum  # Saving the summation in the convolution layer feature map.\n",
    "\n",
    "    return result"
   ]
  },
  {
   "cell_type": "code",
   "execution_count": 5,
   "metadata": {},
   "outputs": [],
   "source": [
    "a = np.array([[1,1,1],[1,1,1],[1,1,1]])/9\n",
    "b = np.ones((10,10))"
   ]
  },
  {
   "cell_type": "code",
   "execution_count": 6,
   "metadata": {},
   "outputs": [
    {
     "name": "stdout",
     "output_type": "stream",
     "text": [
      "[[0.44444444 0.66666667 0.66666667 0.66666667 0.66666667 0.66666667\n",
      "  0.66666667 0.66666667 0.66666667 0.44444444]\n",
      " [0.66666667 1.         1.         1.         1.         1.\n",
      "  1.         1.         1.         0.66666667]\n",
      " [0.66666667 1.         1.         1.         1.         1.\n",
      "  1.         1.         1.         0.66666667]\n",
      " [0.66666667 1.         1.         1.         1.         1.\n",
      "  1.         1.         1.         0.66666667]\n",
      " [0.66666667 1.         1.         1.         1.         1.\n",
      "  1.         1.         1.         0.66666667]\n",
      " [0.66666667 1.         1.         1.         1.         1.\n",
      "  1.         1.         1.         0.66666667]\n",
      " [0.66666667 1.         1.         1.         1.         1.\n",
      "  1.         1.         1.         0.66666667]\n",
      " [0.66666667 1.         1.         1.         1.         1.\n",
      "  1.         1.         1.         0.66666667]\n",
      " [0.66666667 1.         1.         1.         1.         1.\n",
      "  1.         1.         1.         0.66666667]\n",
      " [0.44444444 0.66666667 0.66666667 0.66666667 0.66666667 0.66666667\n",
      "  0.66666667 0.66666667 0.66666667 0.44444444]]\n"
     ]
    }
   ],
   "source": [
    "ans = conv2(b,a)\n",
    "print(ans)"
   ]
  },
  {
   "cell_type": "code",
   "execution_count": null,
   "metadata": {},
   "outputs": [],
   "source": [
    "#     img = np.pad(img, ((pad, pad), (pad, pad)), 'constant', constant_values=(0, 0))"
   ]
  }
 ],
 "metadata": {
  "kernelspec": {
   "display_name": "Python [conda env:root] *",
   "language": "python",
   "name": "conda-root-py"
  },
  "language_info": {
   "codemirror_mode": {
    "name": "ipython",
    "version": 3
   },
   "file_extension": ".py",
   "mimetype": "text/x-python",
   "name": "python",
   "nbconvert_exporter": "python",
   "pygments_lexer": "ipython3",
   "version": "3.7.3"
  }
 },
 "nbformat": 4,
 "nbformat_minor": 2
}
